{
 "cells": [
  {
   "cell_type": "code",
   "execution_count": 1,
   "metadata": {},
   "outputs": [],
   "source": [
    "##Control Structures"
   ]
  },
  {
   "cell_type": "code",
   "execution_count": 3,
   "metadata": {},
   "outputs": [
    {
     "name": "stdout",
     "output_type": "stream",
     "text": [
      "[1] \"yay!\"\n"
     ]
    }
   ],
   "source": [
    "if (2<4) {\n",
    "    print(\"yay!\")\n",
    "} else {\n",
    "    print(\"soup\")\n",
    "}"
   ]
  },
  {
   "cell_type": "code",
   "execution_count": 4,
   "metadata": {},
   "outputs": [],
   "source": [
    "##Iterating While Loop"
   ]
  },
  {
   "cell_type": "code",
   "execution_count": 7,
   "metadata": {},
   "outputs": [
    {
     "name": "stdout",
     "output_type": "stream",
     "text": [
      "[1] 3\n",
      "[1] 6\n",
      "[1] 9\n",
      "[1] 12\n"
     ]
    }
   ],
   "source": [
    "z <- 0\n",
    "\n",
    "while (z<10) {\n",
    "    z <- z +3\n",
    "    print(z)\n",
    "}"
   ]
  },
  {
   "cell_type": "code",
   "execution_count": 8,
   "metadata": {},
   "outputs": [],
   "source": [
    "#Challenge Question 1\n"
   ]
  },
  {
   "cell_type": "code",
   "execution_count": 18,
   "metadata": {},
   "outputs": [
    {
     "data": {
      "text/html": [
       "233168"
      ],
      "text/latex": [
       "233168"
      ],
      "text/markdown": [
       "233168"
      ],
      "text/plain": [
       "[1] 233168"
      ]
     },
     "metadata": {},
     "output_type": "display_data"
    }
   ],
   "source": [
    "is_instance <- function(n) {\n",
    "    if (n %% 3 == 0) {\n",
    "        res <- TRUE\n",
    "    } else if (n %% 5 == 0) {\n",
    "        res <- TRUE\n",
    "    } else {\n",
    "        res <- FALSE\n",
    "    }\n",
    "    return(res)\n",
    "}\n",
    "\n",
    "sum_multiples <- function(max_iter) {\n",
    "    running_sum <- 0\n",
    "    for (i in 1:max_iter-1) {\n",
    "        if (is_instance(i)) {\n",
    "            running_sum <- running_sum + i\n",
    "        }\n",
    "    }\n",
    "    return(running_sum)\n",
    "}\n",
    "sum_multiples(1000)"
   ]
  },
  {
   "cell_type": "code",
   "execution_count": null,
   "metadata": {},
   "outputs": [],
   "source": []
  }
 ],
 "metadata": {
  "kernelspec": {
   "display_name": "R",
   "language": "R",
   "name": "ir"
  },
  "language_info": {
   "codemirror_mode": "r",
   "file_extension": ".r",
   "mimetype": "text/x-r-source",
   "name": "R",
   "pygments_lexer": "r",
   "version": "3.6.1"
  }
 },
 "nbformat": 4,
 "nbformat_minor": 4
}
